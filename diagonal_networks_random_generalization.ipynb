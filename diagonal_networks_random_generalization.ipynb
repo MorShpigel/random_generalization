{
 "cells": [
  {
   "cell_type": "markdown",
   "metadata": {},
   "source": [
    "# Random Generalization"
   ]
  },
  {
   "cell_type": "code",
   "execution_count": 124,
   "metadata": {},
   "outputs": [],
   "source": [
    "import numpy as np\n",
    "from matplotlib import pyplot as plt\n",
    "import torch\n",
    "import torch.nn as nn\n",
    "import torchvision\n",
    "\n",
    "def create_random_data(n, d, r, mu=0, seed=0):\n",
    "    \"\"\"\n",
    "    This function creates a random data set\n",
    "    \n",
    "    Input:\n",
    "    n - number of samples\n",
    "    d - dimension of the data\n",
    "    r - number of non zero entries in the ground truth vector\n",
    "    mu - mean of the data\n",
    "    seed - random seed\n",
    "    \n",
    "    Output:\n",
    "    X - data matrix\n",
    "    y - labels vector\n",
    "    w_star - ground truth vector\n",
    "    \"\"\"\n",
    "    torch.manual_seed(seed)\n",
    "    w_star = torch.cat((torch.ones(r), torch.zeros(d-r))) # spares ground truth vector\n",
    "    X = torch.normal(mu, 1, (n, d))\n",
    "    y_hat = torch.matmul(X, w_star)\n",
    "    y = torch.sign(y_hat)\n",
    "    return X, y, w_star\n",
    "\n",
    "\n",
    "def create_sparse_labels(X, r):\n",
    "    \"\"\"\n",
    "    This function creates a sparse labels vector\n",
    "    \n",
    "    Input:\n",
    "    X - data matrix\n",
    "    r - number of non zero entries in the ground truth vector\n",
    "    \n",
    "    Output:\n",
    "    y - labels vector\n",
    "    w_star - ground truth vector\n",
    "    \"\"\"\n",
    "    d = X.shape[1]\n",
    "    w_star = torch.cat((torch.ones(r), torch.zeros(d-r))) # spares ground truth vector\n",
    "    y_hat = torch.matmul(X, w_star)\n",
    "    y = torch.sign(y_hat)\n",
    "    return y\n",
    "\n",
    "\n",
    "def create_data_Mnist(n_train=512, n_test=128, normalized_flag=True, class_A_label=0, class_B_label=1, r=1):\n",
    "    \"\"\"\n",
    "    This function creates a data set from the MNIST dataset. The labels are produced using a sparse ground truth vector with r non zero entries.\n",
    "    \n",
    "    Input:\n",
    "    n_train - number of training samples\n",
    "    n_test - number of test samples\n",
    "    normalized_flag - whether to normalize the data\n",
    "    class_A_label - label of the first class\n",
    "    class_B_label - label of the second class\n",
    "    r - number of non zero entries in the ground truth vector\n",
    "    \n",
    "    Output:\n",
    "    x_train - training data\n",
    "    y_train - training labels\n",
    "    x_test - test data\n",
    "    y_test - test labels\n",
    "    \"\"\"\n",
    "    \n",
    "    train_data = torchvision.datasets.MNIST('./mnist/', train=True, download=True,\n",
    "                            transform=torchvision.transforms.ToTensor())\n",
    "\n",
    "    class_A_x = train_data.train_data[train_data.train_labels == class_A_label,:,:].flatten(start_dim=1).to(torch.float32)\n",
    "    class_B_x = train_data.train_data[train_data.train_labels == class_B_label,:,:].flatten(start_dim=1).to(torch.float32)\n",
    "    # class_A_y = train_data.train_labels[train_data.train_labels == class_A_label]\n",
    "    # class_B_y = train_data.train_labels[train_data.train_labels == class_B_label]\n",
    "    x_train = torch.cat((class_A_x[:n_train//2,:], class_B_x[:n_train//2,:]), 0)\n",
    "    x_test = torch.cat((class_A_x[n_train//2:n_train//2+n_test//2,:], class_B_x[n_train//2:n_train//2+n_test//2,:]), 0)\n",
    "    y_train = create_sparse_labels(x_train, r)\n",
    "    y_test = create_sparse_labels(x_test, r)\n",
    "\n",
    "    # normalize the data\n",
    "    if normalized_flag:\n",
    "        x_train = torch.div(x_train, torch.matmul(torch.norm(x_train, dim=1).view(len(x_train), 1), torch.ones(1, x_train.shape[1])))\n",
    "        x_test = torch.div(x_test, torch.matmul(torch.norm(x_test, dim=1).view(len(x_test), 1), torch.ones(1, x_test.shape[1])))\n",
    "\n",
    "    return x_train, y_train, x_test, y_test\n",
    "\n",
    "\n",
    "def create_sparse_data(n_train, n_test, r=1, dataset=\"random\", seed=0, mu=0, d=50, normalized_flag=True):\n",
    "        if dataset==\"random\":\n",
    "            x_train, y_train, w_star = create_random_data(n_train, d, r, mu, seed)\n",
    "            x_test, y_test, _ = create_random_data(n_test, d, r, mu, seed)\n",
    "        elif dataset==\"MNIST\":\n",
    "            x_train, y_train, x_test, y_test = create_data_Mnist(n_train, n_test, normalized_flag, class_A_label=0, class_B_label=1, r=r)\n",
    "        return x_train, y_train, x_test, y_test\n",
    "\n",
    "class DiagonalNetworks(nn.Module):\n",
    "    def __init__(self, d_input, depth=2):\n",
    "        super(DiagonalNetworks, self).__init__()\n",
    "        self.depth = depth\n",
    "        self.d_input = d_input\n",
    "        self.layers = []\n",
    "        self.layers = nn.Parameter(torch.randn(d_input, depth))\n",
    "        # for _ in range(depth):\n",
    "        #     self.layers.append(torch.nn.Linear(d_input, depth, bias=False))\n",
    "            \n",
    "    def forward(self, input):\n",
    "        w = torch.prod(self.layers, axis=1)\n",
    "        output = torch.matmul(input.float(),w)\n",
    "        return output\n",
    "    \n",
    "\n",
    "class DiagonalNetworks_sampled():\n",
    "    def __init__(self, dist, d_input, depth=2):\n",
    "        self.depth = depth\n",
    "        self.d_input = d_input\n",
    "        self.dist = dist\n",
    "        self.w = nn.Parameter(torch.randn(d_input, 1))\n",
    "\n",
    "    def forward(self, input):\n",
    "        wx = input*self.w\n",
    "        output = torch.sum(wx, axis=1)\n",
    "        return output\n",
    "    \n",
    "    def sample_params(self):\n",
    "        if self.dist==\"Normal\":\n",
    "            self.w = np.random.normal(0, 1, (self.d_input))\n",
    "        elif self.dist==\"Normal_uv\":\n",
    "            self.w = np.ones(self.d_input)\n",
    "            for _ in range(self.depth):\n",
    "                self.w = np.multiply(self.w, np.random.normal(0, 1, (self.d_input)))\n",
    "        elif self.dist==\"Laplace\":\n",
    "            self.w = np.random.laplace(0, 1, (self.d_input))\n",
    "\n",
    "\n",
    "def find_interpolating_sol(x_train, y_train, model, number_of_models_to_sample=1000, seed=0):\n",
    "    \"\"\"\n",
    "    This function finds an interpolating model for the given data\n",
    "    \n",
    "    Input:\n",
    "    x_train - training data\n",
    "    y_train - training labels\n",
    "    model - model to train\n",
    "    number_of_models - number of random models to sample\n",
    "    seed - random seed\n",
    "    \n",
    "    Output:\n",
    "    iter - number of iterations it took to find the interpolating model\n",
    "    status - \"Sucsses\" if found an interpolating model, \"Failed\" otherwise\n",
    "    \"\"\"\n",
    "    np.random.seed(seed)\n",
    "    for iter in range(number_of_models_to_sample):\n",
    "        model.sample_params()\n",
    "        train_acc, _ = calc_accuracy(model, x_train, y_train)\n",
    "        if train_acc==1.0:\n",
    "            return iter, \"Sucsses\"\n",
    "    return iter, \"Failed\"\n",
    "\n",
    "\n",
    "def calc_accuracy(model, X, y):\n",
    "    \"\"\"\n",
    "    This function calculates the accuracy of the model on a given data\n",
    "\n",
    "    Input:\n",
    "    model - model to train\n",
    "    X - data matrix\n",
    "    y - labels vector\n",
    "\n",
    "    Output:\n",
    "    acc - accuracy of the model\n",
    "    y_hat - predicted labels\n",
    "    \"\"\"\n",
    "    y_hat = model.forward(X)\n",
    "    predicton = (y_hat*y>0).float()\n",
    "    acc = torch.sum(predicton)/len(y)\n",
    "    return acc, y_hat\n",
    "\n",
    "\n",
    "def calc_guess_and_check_generalzation(x_train, y_train, x_test, y_test, dist=\"Normal\", T_find_interpolating_sol=100000, number_of_GNC_models_to_try=10, seed=0, depth=2):\n",
    "    \"\"\"\n",
    "    This function calculates the avarage generalization of the guess and check algorithm \n",
    "    by running the algorithm number_of_GNC_models_to_try times and averaging the resulting models test accuracy\n",
    "    \n",
    "    Input:\n",
    "    x_train - training data\n",
    "    y_train - training labels\n",
    "    x_test - test data\n",
    "    y_test - test labels\n",
    "    dist - distribution of the weights\n",
    "    T_find_interpolating_sol - number of random models to sample\n",
    "    number_of_GNC_models_to_try - number of models to (try to) obtain using the guess and check algorithm\n",
    "    seed - random seed\n",
    "    depth - depth of the model\n",
    "    \n",
    "    Output:\n",
    "    test_acc_mean - avarage test accuracy of the models\n",
    "    test_acc_std - standard deviation of the test accuracy of the models\n",
    "    succ_counter - number of models that were trained successfully\n",
    "    \"\"\"\n",
    "    d = x_train.shape[1]\n",
    "    succ_counter = 0\n",
    "    test_acc_vec = []\n",
    "    model = DiagonalNetworks_sampled(dist, d, depth=depth)\n",
    "    for i in range(number_of_GNC_models_to_try):\n",
    "        iter, status = find_interpolating_sol(x_train, y_train, model, T_find_interpolating_sol, seed+i)\n",
    "        if status==\"Failed\":\n",
    "            continue\n",
    "        succ_counter += 1\n",
    "        test_acc, _ = calc_accuracy(model, x_test, y_test)\n",
    "        test_acc_vec.append(test_acc)\n",
    "    if (len(test_acc_vec)):\n",
    "        test_acc_mean = np.array(test_acc_vec).mean()\n",
    "        test_acc_std = np.array(test_acc_vec).std()\n",
    "    return test_acc_mean, test_acc_std, succ_counter\n",
    "\n",
    "\n",
    "def train_gd(model, optimizer, criterion, x_train, y_train, epochs=1000, loss_thr=1e-3 ,print_loss=True):\n",
    "    \"\"\"\n",
    "    This function trains a given model using gradient descent\n",
    "    \n",
    "    Input:\n",
    "    model - model to train\n",
    "    optimizer - optimizer to use\n",
    "    criterion - loss function\n",
    "    x_train - training data\n",
    "    y_train - training labels\n",
    "    epochs - number of epochs to train\n",
    "    loss_thr - loss threshold to stop training (only if the training accuracy is 1.0)\n",
    "    print_loss - whether to print the loss during training\n",
    "    \n",
    "    Output:\n",
    "    iter - number of iterations it took to find the interpolating model\n",
    "    status - \"Sucsses\" if found an interpolating model, \"Failed\" otherwise\n",
    "    \"\"\"\n",
    "    for iter in range(epochs):\n",
    "        model.train()\n",
    "        optimizer.zero_grad()\n",
    "        train_acc, y_hat = calc_accuracy(model, x_train, y_train)\n",
    "        loss_train = criterion(y_hat, (y_train>0).float())\n",
    "\n",
    "        loss_train.backward()\n",
    "        optimizer.step()\n",
    "        if iter%100 == 0 and print_loss:\n",
    "            print(f\"iter:{iter}, Training loss:{loss_train}, Training accuracy:{train_acc}\")\n",
    "        if train_acc==1.0 and loss_train<loss_thr:\n",
    "            return iter, \"Sucsses\"\n",
    "    return iter, \"Failed\"\n",
    "\n",
    "\n",
    "def calc_GD_generalzation(x_train, y_train, x_test, y_test, lr=0.1, number_of_models_to_try=10, epochs=1000, loss_thr=1e-3):\n",
    "    \"\"\"\n",
    "    This function calculates the avarage generalization of the gradient descent algorithm \n",
    "    by running the algorithm number_of_models times and averaging the resulting models test accuracy\n",
    "    \n",
    "    Input:\n",
    "    x_train - training data\n",
    "    y_train - training labels\n",
    "    x_test - test data\n",
    "    y_test - test labels\n",
    "    lr - learning rate\n",
    "    number_of_models - number of models to train\n",
    "    epochs - number of epochs to train\n",
    "    loss_thr - loss threshold to stop training (only if the training accuracy is 1.0)\n",
    "    \n",
    "    Output:\n",
    "    test_acc_mean - avarage test accuracy of the models\n",
    "    test_acc_std - standard deviation of the test accuracy of the models\n",
    "    succ_counter - number of models that were trained successfully\n",
    "    \"\"\"\n",
    "    d = x_train.shape[1]\n",
    "    succ_counter = 0\n",
    "    test_acc_vec = []\n",
    "    for i in range(number_of_models_to_try):\n",
    "        if i%50==0:\n",
    "            print(f\"Initializing model number {i}\")\n",
    "        model_gd = DiagonalNetworks(d)\n",
    "        optimizer = torch.optim.SGD(model_gd.parameters(), lr=lr)\n",
    "        criterion = nn.BCEWithLogitsLoss()\n",
    "        iter, status = train_gd(model_gd, optimizer, criterion, x_train, y_train, epochs=epochs, loss_thr=loss_thr, print_loss=False)\n",
    "        if status==\"Failed\":\n",
    "            continue\n",
    "        succ_counter += 1\n",
    "        test_acc, _ = calc_accuracy(model_gd, x_test, y_test)\n",
    "        test_acc_vec.append(test_acc)\n",
    "    if (len(test_acc_vec)):\n",
    "        test_acc_mean = np.array(test_acc_vec).mean()\n",
    "        test_acc_std = np.array(test_acc_vec).std()\n",
    "    return test_acc_mean, test_acc_std, succ_counter"
   ]
  },
  {
   "cell_type": "code",
   "execution_count": 137,
   "metadata": {},
   "outputs": [
    {
     "name": "stdout",
     "output_type": "stream",
     "text": [
      "r=3, seed=0, dist=Normal\n",
      "r=3, seed=0, dist=Normal_uv\n",
      "r=3, seed=0, dist=Laplace\n",
      "Normal 0.58919007\n",
      "Normal_uv 0.58608997\n",
      "Laplace 0.58801997\n"
     ]
    }
   ],
   "source": [
    "r_vec = np.arange(1, 10, 2)\n",
    "r_vec = [3]\n",
    "mu = 0\n",
    "dataset = \"random\"\n",
    "N_train, N_test, d = 2, 10, 50\n",
    "# N_train, N_test, d = 10, 10, 30\n",
    "# N_train, N_test, d = 25, 10, 50\n",
    "T_find_interpolating_sol = 1000000\n",
    "number_of_GNC_models_to_try = 1000\n",
    "seed_vec = np.arange(50)\n",
    "seed_vec = np.arange(10)\n",
    "# seed_vec = [1]\n",
    "dist_vec = [\"Normal\", \"Normal_uv\", \"Laplace\"]\n",
    "# dist_vec = [\"Normal_uv\"]\n",
    "depth = 2\n",
    "mean_test_acc_dict = {}\n",
    "std_test_acc_dict = {}\n",
    "test_acc_dict = {}\n",
    "test_acc_dict =\t{\n",
    "  \"Normal\": [],\n",
    "  \"Normal_uv\": [],\n",
    "  \"Laplace\": []\n",
    "}\n",
    "for r in r_vec:\n",
    "  for seed in seed_vec:\n",
    "    x_train, y_train, x_test, y_test = create_sparse_data(n_train=N_train, n_test=N_test, r=r, dataset=dataset, normalized_flag=False, seed=seed, mu=mu, d=d)\n",
    "    for dist in dist_vec:\n",
    "          if seed%25==0:\n",
    "            print(f\"r={r}, seed={seed}, dist={dist}\")\n",
    "          test_acc, test_acc_std, _ = calc_guess_and_check_generalzation(x_train, y_train, x_test, y_test, dist,  T_find_interpolating_sol, number_of_GNC_models_to_try, seed, depth=depth)\n",
    "          test_acc_dict[dist].append(test_acc)\n",
    "\n",
    "  for dist in dist_vec:\n",
    "      print(dist, np.array(test_acc_dict[dist]).mean())\n",
    "      mean_test_acc_dict[(r, dist)] = np.array(test_acc_dict[dist]).mean()\n",
    "      std_test_acc_dict[(r, dist)] = np.array(test_acc_dict[dist]).std()"
   ]
  },
  {
   "cell_type": "code",
   "execution_count": 16,
   "metadata": {},
   "outputs": [
    {
     "data": {
      "text/plain": [
       "10000"
      ]
     },
     "execution_count": 16,
     "metadata": {},
     "output_type": "execute_result"
    }
   ],
   "source": [
    "_"
   ]
  },
  {
   "cell_type": "code",
   "execution_count": 138,
   "metadata": {},
   "outputs": [
    {
     "data": {
      "text/plain": [
       "{(3, 'Normal'): 0.017540837,\n",
       " (3, 'Normal_uv'): 0.0184942,\n",
       " (3, 'Laplace'): 0.018344734}"
      ]
     },
     "execution_count": 138,
     "metadata": {},
     "output_type": "execute_result"
    }
   ],
   "source": [
    "std_test_acc_dict"
   ]
  },
  {
   "cell_type": "code",
   "execution_count": 139,
   "metadata": {},
   "outputs": [
    {
     "data": {
      "text/plain": [
       "0.15363124"
      ]
     },
     "execution_count": 139,
     "metadata": {},
     "output_type": "execute_result"
    }
   ],
   "source": [
    "test_acc_std"
   ]
  },
  {
   "cell_type": "code",
   "execution_count": 32,
   "metadata": {},
   "outputs": [
    {
     "name": "stdout",
     "output_type": "stream",
     "text": [
      "Initializing model number 0\n",
      "Initializing model number 50\n",
      "Initializing model number 100\n",
      "Initializing model number 150\n",
      "Initializing model number 200\n",
      "Initializing model number 250\n",
      "Initializing model number 300\n",
      "Initializing model number 350\n",
      "Initializing model number 400\n",
      "Initializing model number 450\n",
      "Initializing model number 500\n",
      "Initializing model number 550\n",
      "Initializing model number 600\n",
      "Initializing model number 650\n",
      "Initializing model number 700\n",
      "Initializing model number 750\n",
      "Initializing model number 800\n",
      "Initializing model number 850\n",
      "Initializing model number 900\n",
      "Initializing model number 950\n"
     ]
    }
   ],
   "source": [
    "test_acc, test_acc_std, _ = calc_GD_generalzation(x_train, y_train, x_test, y_test, lr=1e-3, number_of_models_to_try=number_of_GNC_models_to_try, epochs=1000, loss_thr=10)"
   ]
  },
  {
   "cell_type": "code",
   "execution_count": 33,
   "metadata": {},
   "outputs": [
    {
     "data": {
      "text/plain": [
       "0.74159575"
      ]
     },
     "execution_count": 33,
     "metadata": {},
     "output_type": "execute_result"
    }
   ],
   "source": [
    "test_acc\n"
   ]
  },
  {
   "cell_type": "code",
   "execution_count": 34,
   "metadata": {},
   "outputs": [
    {
     "data": {
      "text/plain": [
       "0.12472781"
      ]
     },
     "execution_count": 34,
     "metadata": {},
     "output_type": "execute_result"
    }
   ],
   "source": [
    "test_acc_std"
   ]
  },
  {
   "cell_type": "code",
   "execution_count": 8,
   "metadata": {},
   "outputs": [
    {
     "data": {
      "image/png": "[encoded data removed]",
      "text/plain": [
       "<Figure size 432x288 with 1 Axes>"
      ]
     },
     "metadata": {
      "needs_background": "light"
     },
     "output_type": "display_data"
    }
   ],
   "source": [
    "for dist in [\"Normal\", \"Normal_uv\", \"Laplace\"]:\n",
    "    mean_test_acc_vec = [mean_test_acc_dict[(r, dist)] for r in r_vec]\n",
    "    plt.plot(r_vec, mean_test_acc_vec, label=dist)\n",
    "\n",
    "plt.xlabel(\"Sparsity\")\n",
    "plt.ylabel(\"Mean Test Accuracy\")\n",
    "# plt.yscale(\"log\")\n",
    "plt.legend()\n",
    "# plt.show()\n",
    "if len(seed_vec)==1:\n",
    "    plt.savefig(f\"Figures/diagonal_networks_random_generalization_N_train={N_train}_N_test={N_test}_d={d}_mu={mu}_seed={seed_vec[0]}.png\")\n",
    "else:\n",
    "    plt.savefig(f\"Figures/diagonal_networks_random_generalization_N_train={N_train}_N_test={N_test}_d={d}_mu={mu}_seed_num={len(seed_vec)}.png\")\n"
   ]
  },
  {
   "cell_type": "markdown",
   "metadata": {},
   "source": [
    "# NEW"
   ]
  },
  {
   "cell_type": "code",
   "execution_count": 2,
   "metadata": {},
   "outputs": [
    {
     "name": "stdout",
     "output_type": "stream",
     "text": [
      "r=1, seed=0, dist=Normal\n",
      "GNC: Trying model 0 out of 1000\n"
     ]
    },
    {
     "ename": "KeyboardInterrupt",
     "evalue": "",
     "output_type": "error",
     "traceback": [
      "\u001b[0;31m---------------------------------------------------------------------------\u001b[0m",
      "\u001b[0;31mKeyboardInterrupt\u001b[0m                         Traceback (most recent call last)",
      "\u001b[0;32m/tmp/ipykernel_37813/1410556679.py\u001b[0m in \u001b[0;36m<module>\u001b[0;34m\u001b[0m\n\u001b[1;32m     42\u001b[0m             \u001b[0;32mif\u001b[0m \u001b[0mseed\u001b[0m\u001b[0;34m%\u001b[0m\u001b[0;36m25\u001b[0m\u001b[0;34m==\u001b[0m\u001b[0;36m0\u001b[0m\u001b[0;34m:\u001b[0m\u001b[0;34m\u001b[0m\u001b[0;34m\u001b[0m\u001b[0m\n\u001b[1;32m     43\u001b[0m                 \u001b[0mprint\u001b[0m\u001b[0;34m(\u001b[0m\u001b[0;34mf\"r={r}, seed={seed}, dist={dist}\"\u001b[0m\u001b[0;34m)\u001b[0m\u001b[0;34m\u001b[0m\u001b[0;34m\u001b[0m\u001b[0m\n\u001b[0;32m---> 44\u001b[0;31m             \u001b[0mtest_acc_mean\u001b[0m\u001b[0;34m,\u001b[0m \u001b[0mtest_acc_std\u001b[0m\u001b[0;34m,\u001b[0m \u001b[0m_\u001b[0m \u001b[0;34m=\u001b[0m \u001b[0mcalc_guess_and_check_generalzation\u001b[0m\u001b[0;34m(\u001b[0m\u001b[0mx_train\u001b[0m\u001b[0;34m,\u001b[0m \u001b[0my_train\u001b[0m\u001b[0;34m,\u001b[0m \u001b[0mx_test\u001b[0m\u001b[0;34m,\u001b[0m \u001b[0my_test\u001b[0m\u001b[0;34m,\u001b[0m \u001b[0mdist\u001b[0m\u001b[0;34m,\u001b[0m  \u001b[0mT_find_interpolating_sol\u001b[0m\u001b[0;34m,\u001b[0m \u001b[0mnumber_of_GNC_models_to_try\u001b[0m\u001b[0;34m,\u001b[0m \u001b[0mseed\u001b[0m\u001b[0;34m,\u001b[0m \u001b[0mdepth\u001b[0m\u001b[0;34m=\u001b[0m\u001b[0mdepth\u001b[0m\u001b[0;34m,\u001b[0m \u001b[0mcriterion\u001b[0m\u001b[0;34m=\u001b[0m\u001b[0mcriterion\u001b[0m\u001b[0;34m,\u001b[0m \u001b[0mloss_max_thr\u001b[0m\u001b[0;34m=\u001b[0m\u001b[0mloss_max_thr\u001b[0m\u001b[0;34m,\u001b[0m \u001b[0mloss_min_thr\u001b[0m\u001b[0;34m=\u001b[0m\u001b[0mloss_min_thr\u001b[0m\u001b[0;34m)\u001b[0m\u001b[0;34m\u001b[0m\u001b[0;34m\u001b[0m\u001b[0m\n\u001b[0m\u001b[1;32m     45\u001b[0m             \u001b[0mtest_acc_dict\u001b[0m\u001b[0;34m[\u001b[0m\u001b[0mdist\u001b[0m\u001b[0;34m]\u001b[0m\u001b[0;34m.\u001b[0m\u001b[0mappend\u001b[0m\u001b[0;34m(\u001b[0m\u001b[0mtest_acc_mean\u001b[0m\u001b[0;34m)\u001b[0m\u001b[0;34m\u001b[0m\u001b[0;34m\u001b[0m\u001b[0m\n\u001b[1;32m     46\u001b[0m \u001b[0;34m\u001b[0m\u001b[0m\n",
      "\u001b[0;32m~/random_generalization/guess_n_check.py\u001b[0m in \u001b[0;36mcalc_guess_and_check_generalzation\u001b[0;34m(x_train, y_train, x_test, y_test, dist, T_find_interpolating_sol, number_of_GNC_models_to_try, seed, depth, criterion, loss_max_thr, loss_min_thr)\u001b[0m\n\u001b[1;32m     57\u001b[0m         \u001b[0;32mif\u001b[0m \u001b[0mi\u001b[0m\u001b[0;34m%\u001b[0m\u001b[0;36m100\u001b[0m\u001b[0;34m==\u001b[0m\u001b[0;36m0\u001b[0m\u001b[0;34m:\u001b[0m\u001b[0;34m\u001b[0m\u001b[0;34m\u001b[0m\u001b[0m\n\u001b[1;32m     58\u001b[0m             \u001b[0mprint\u001b[0m\u001b[0;34m(\u001b[0m\u001b[0;34mf\"GNC: Trying model {i} out of {number_of_GNC_models_to_try}\"\u001b[0m\u001b[0;34m)\u001b[0m\u001b[0;34m\u001b[0m\u001b[0;34m\u001b[0m\u001b[0m\n\u001b[0;32m---> 59\u001b[0;31m         \u001b[0miter\u001b[0m\u001b[0;34m,\u001b[0m \u001b[0mstatus\u001b[0m \u001b[0;34m=\u001b[0m \u001b[0mfind_interpolating_sol\u001b[0m\u001b[0;34m(\u001b[0m\u001b[0mx_train\u001b[0m\u001b[0;34m,\u001b[0m \u001b[0my_train\u001b[0m\u001b[0;34m,\u001b[0m \u001b[0mmodel\u001b[0m\u001b[0;34m,\u001b[0m \u001b[0mT_find_interpolating_sol\u001b[0m\u001b[0;34m,\u001b[0m \u001b[0mseed\u001b[0m\u001b[0;34m+\u001b[0m\u001b[0mi\u001b[0m\u001b[0;34m,\u001b[0m \u001b[0mcriterion\u001b[0m\u001b[0;34m=\u001b[0m\u001b[0mcriterion\u001b[0m\u001b[0;34m,\u001b[0m \u001b[0mloss_max_thr\u001b[0m\u001b[0;34m=\u001b[0m\u001b[0mloss_max_thr\u001b[0m\u001b[0;34m,\u001b[0m \u001b[0mloss_min_thr\u001b[0m\u001b[0;34m=\u001b[0m\u001b[0mloss_min_thr\u001b[0m\u001b[0;34m)\u001b[0m\u001b[0;34m\u001b[0m\u001b[0;34m\u001b[0m\u001b[0m\n\u001b[0m\u001b[1;32m     60\u001b[0m         \u001b[0;32mif\u001b[0m \u001b[0mstatus\u001b[0m\u001b[0;34m==\u001b[0m\u001b[0;34m\"Failed\"\u001b[0m\u001b[0;34m:\u001b[0m\u001b[0;34m\u001b[0m\u001b[0;34m\u001b[0m\u001b[0m\n\u001b[1;32m     61\u001b[0m             \u001b[0;32mcontinue\u001b[0m\u001b[0;34m\u001b[0m\u001b[0;34m\u001b[0m\u001b[0m\n",
      "\u001b[0;32m~/random_generalization/guess_n_check.py\u001b[0m in \u001b[0;36mfind_interpolating_sol\u001b[0;34m(x_train, y_train, model, number_of_models_to_sample, seed, criterion, loss_max_thr, loss_min_thr)\u001b[0m\n\u001b[1;32m     22\u001b[0m     \u001b[0;32mfor\u001b[0m \u001b[0miter\u001b[0m \u001b[0;32min\u001b[0m \u001b[0mrange\u001b[0m\u001b[0;34m(\u001b[0m\u001b[0mnumber_of_models_to_sample\u001b[0m\u001b[0;34m)\u001b[0m\u001b[0;34m:\u001b[0m\u001b[0;34m\u001b[0m\u001b[0;34m\u001b[0m\u001b[0m\n\u001b[1;32m     23\u001b[0m         \u001b[0mmodel\u001b[0m\u001b[0;34m.\u001b[0m\u001b[0msample_params\u001b[0m\u001b[0;34m(\u001b[0m\u001b[0;34m)\u001b[0m\u001b[0;34m\u001b[0m\u001b[0;34m\u001b[0m\u001b[0m\n\u001b[0;32m---> 24\u001b[0;31m         \u001b[0mtrain_acc\u001b[0m\u001b[0;34m,\u001b[0m \u001b[0my_hat\u001b[0m \u001b[0;34m=\u001b[0m \u001b[0mcalc_accuracy\u001b[0m\u001b[0;34m(\u001b[0m\u001b[0mmodel\u001b[0m\u001b[0;34m,\u001b[0m \u001b[0mx_train\u001b[0m\u001b[0;34m,\u001b[0m \u001b[0my_train\u001b[0m\u001b[0;34m)\u001b[0m\u001b[0;34m\u001b[0m\u001b[0;34m\u001b[0m\u001b[0m\n\u001b[0m\u001b[1;32m     25\u001b[0m         \u001b[0mloss_train\u001b[0m \u001b[0;34m=\u001b[0m \u001b[0mcriterion\u001b[0m\u001b[0;34m(\u001b[0m\u001b[0my_hat\u001b[0m\u001b[0;34m,\u001b[0m \u001b[0;34m(\u001b[0m\u001b[0my_train\u001b[0m\u001b[0;34m>\u001b[0m\u001b[0;36m0\u001b[0m\u001b[0;34m)\u001b[0m\u001b[0;34m.\u001b[0m\u001b[0mfloat\u001b[0m\u001b[0;34m(\u001b[0m\u001b[0;34m)\u001b[0m\u001b[0;34m)\u001b[0m\u001b[0;34m\u001b[0m\u001b[0;34m\u001b[0m\u001b[0m\n\u001b[1;32m     26\u001b[0m         \u001b[0;32mif\u001b[0m \u001b[0mtrain_acc\u001b[0m\u001b[0;34m==\u001b[0m\u001b[0;36m1.0\u001b[0m \u001b[0;32mand\u001b[0m \u001b[0mloss_train\u001b[0m\u001b[0;34m<\u001b[0m\u001b[0mloss_max_thr\u001b[0m \u001b[0;32mand\u001b[0m \u001b[0mloss_train\u001b[0m\u001b[0;34m>\u001b[0m\u001b[0mloss_min_thr\u001b[0m\u001b[0;34m:\u001b[0m\u001b[0;34m\u001b[0m\u001b[0;34m\u001b[0m\u001b[0m\n",
      "\u001b[0;32m~/random_generalization/utilities.py\u001b[0m in \u001b[0;36mcalc_accuracy\u001b[0;34m(model, X, y)\u001b[0m\n\u001b[1;32m     18\u001b[0m     \u001b[0my_hat\u001b[0m \u001b[0;34m=\u001b[0m \u001b[0mmodel\u001b[0m\u001b[0;34m.\u001b[0m\u001b[0mforward\u001b[0m\u001b[0;34m(\u001b[0m\u001b[0mX\u001b[0m\u001b[0;34m)\u001b[0m\u001b[0;34m\u001b[0m\u001b[0;34m\u001b[0m\u001b[0m\n\u001b[1;32m     19\u001b[0m     \u001b[0mpredicton\u001b[0m \u001b[0;34m=\u001b[0m \u001b[0;34m(\u001b[0m\u001b[0my_hat\u001b[0m\u001b[0;34m*\u001b[0m\u001b[0my\u001b[0m\u001b[0;34m>\u001b[0m\u001b[0;36m0\u001b[0m\u001b[0;34m)\u001b[0m\u001b[0;34m.\u001b[0m\u001b[0mfloat\u001b[0m\u001b[0;34m(\u001b[0m\u001b[0;34m)\u001b[0m\u001b[0;34m\u001b[0m\u001b[0;34m\u001b[0m\u001b[0m\n\u001b[0;32m---> 20\u001b[0;31m     \u001b[0macc\u001b[0m \u001b[0;34m=\u001b[0m \u001b[0mtorch\u001b[0m\u001b[0;34m.\u001b[0m\u001b[0msum\u001b[0m\u001b[0;34m(\u001b[0m\u001b[0mpredicton\u001b[0m\u001b[0;34m)\u001b[0m\u001b[0;34m/\u001b[0m\u001b[0mlen\u001b[0m\u001b[0;34m(\u001b[0m\u001b[0my\u001b[0m\u001b[0;34m)\u001b[0m\u001b[0;34m\u001b[0m\u001b[0;34m\u001b[0m\u001b[0m\n\u001b[0m\u001b[1;32m     21\u001b[0m     \u001b[0;32mreturn\u001b[0m \u001b[0macc\u001b[0m\u001b[0;34m,\u001b[0m \u001b[0my_hat\u001b[0m\u001b[0;34m\u001b[0m\u001b[0;34m\u001b[0m\u001b[0m\n\u001b[1;32m     22\u001b[0m \u001b[0;34m\u001b[0m\u001b[0m\n",
      "\u001b[0;31mKeyboardInterrupt\u001b[0m: "
     ]
    }
   ],
   "source": [
    "import numpy as np\n",
    "from create_data import create_sparse_data\n",
    "from guess_n_check import calc_guess_and_check_generalzation\n",
    "from gd import calc_GD_generalzation\n",
    "from matplotlib import pyplot as plt\n",
    "import torch.nn as nn\n",
    "\n",
    "r_vec = np.arange(1, 10, 2)\n",
    "r_vec = [1]\n",
    "mu = 0\n",
    "dataset = \"random\"\n",
    "# N_train, N_test, d = 2, 10, 50\n",
    "# N_train, N_test, d = 10, 10, 30\n",
    "# N_train, N_test, d = 25, 10, 50\n",
    "N_train, N_test, d = 12, 6, 25\n",
    "criterion = nn.BCEWithLogitsLoss()\n",
    "T_find_interpolating_sol = 1000000\n",
    "number_of_GNC_models_to_try = 1000\n",
    "gd_epochs = 1000\n",
    "loss_max_thr = 0.3\n",
    "loss_min_thr = 0.2\n",
    "gd_lr = 1e-3\n",
    "seed_vec = np.arange(50)\n",
    "seed_vec = np.arange(10)\n",
    "# seed_vec = [1]\n",
    "dist_vec = [\"Normal\", \"Normal_uv\", \"Laplace\"]\n",
    "# dist_vec = [\"Normal_uv\"]\n",
    "depth = 10\n",
    "mean_test_acc_dict = {}\n",
    "std_test_acc_dict = {}\n",
    "test_acc_dict = {}\n",
    "test_acc_dict =\t{\n",
    "  \"Normal\": [],\n",
    "  \"Normal_uv\": [],\n",
    "  \"Laplace\": [],\n",
    "  \"GD\": []\n",
    "}\n",
    "for r in r_vec:\n",
    "    for seed in seed_vec:\n",
    "        x_train, y_train, x_test, y_test = create_sparse_data(n_train=N_train, n_test=N_test, r=r, dataset=dataset, normalized_flag=False, seed=seed, mu=mu, d=d)\n",
    "        for dist in dist_vec:\n",
    "            if seed%25==0:\n",
    "                print(f\"r={r}, seed={seed}, dist={dist}\")\n",
    "            test_acc_mean, test_acc_std, _ = calc_guess_and_check_generalzation(x_train, y_train, x_test, y_test, dist,  T_find_interpolating_sol, number_of_GNC_models_to_try, seed, depth=depth, criterion=criterion, loss_max_thr=loss_max_thr, loss_min_thr=loss_min_thr)\n",
    "            test_acc_dict[dist].append(test_acc_mean)\n",
    "\n",
    "        if seed%25==0:\n",
    "            print(f\"r={r}, seed={seed}, GD\")\n",
    "        test_acc_mean, test_acc_std, _ = calc_GD_generalzation(x_train, y_train, x_test, y_test, lr=gd_lr, number_of_models_to_try=number_of_GNC_models_to_try, epochs=gd_epochs, loss_max_thr=loss_max_thr, loss_min_thr=loss_min_thr)\n",
    "        test_acc_dict[\"GD\"].append(test_acc_mean)\n",
    "        \n",
    "    for dist in [\"Normal\", \"Normal_uv\", \"Laplace\", \"GD\"]:\n",
    "        print(dist, np.array(test_acc_dict[dist]).mean())\n",
    "        mean_test_acc_dict[(r, dist)] = np.array(test_acc_dict[dist]).mean()\n",
    "        std_test_acc_dict[(r, dist)] = np.array(test_acc_dict[dist]).std()"
   ]
  },
  {
   "cell_type": "code",
   "execution_count": 25,
   "metadata": {},
   "outputs": [
    {
     "name": "stdout",
     "output_type": "stream",
     "text": [
      "GD: Initializing model number 0\n"
     ]
    },
    {
     "ename": "KeyboardInterrupt",
     "evalue": "",
     "output_type": "error",
     "traceback": [
      "\u001b[0;31m---------------------------------------------------------------------------\u001b[0m",
      "\u001b[0;31mKeyboardInterrupt\u001b[0m                         Traceback (most recent call last)",
      "\u001b[0;32m/tmp/ipykernel_37813/334137427.py\u001b[0m in \u001b[0;36m<module>\u001b[0;34m\u001b[0m\n\u001b[0;32m----> 1\u001b[0;31m \u001b[0mtest_acc_mean\u001b[0m\u001b[0;34m,\u001b[0m \u001b[0mtest_acc_std\u001b[0m\u001b[0;34m,\u001b[0m \u001b[0m_\u001b[0m \u001b[0;34m=\u001b[0m \u001b[0mcalc_GD_generalzation\u001b[0m\u001b[0;34m(\u001b[0m\u001b[0mx_train\u001b[0m\u001b[0;34m,\u001b[0m \u001b[0my_train\u001b[0m\u001b[0;34m,\u001b[0m \u001b[0mx_test\u001b[0m\u001b[0;34m,\u001b[0m \u001b[0my_test\u001b[0m\u001b[0;34m,\u001b[0m \u001b[0mlr\u001b[0m\u001b[0;34m=\u001b[0m\u001b[0mgd_lr\u001b[0m\u001b[0;34m,\u001b[0m \u001b[0mnumber_of_models_to_try\u001b[0m\u001b[0;34m=\u001b[0m\u001b[0;36m10\u001b[0m\u001b[0;34m,\u001b[0m \u001b[0mepochs\u001b[0m\u001b[0;34m=\u001b[0m\u001b[0;36m10\u001b[0m\u001b[0;34m*\u001b[0m\u001b[0mgd_epochs\u001b[0m\u001b[0;34m,\u001b[0m \u001b[0mloss_max_thr\u001b[0m\u001b[0;34m=\u001b[0m\u001b[0;36m0.05\u001b[0m\u001b[0;34m,\u001b[0m \u001b[0mloss_min_thr\u001b[0m\u001b[0;34m=\u001b[0m\u001b[0;36m0\u001b[0m\u001b[0;34m)\u001b[0m\u001b[0;34m\u001b[0m\u001b[0;34m\u001b[0m\u001b[0m\n\u001b[0m",
      "\u001b[0;32m~/random_generalization/gd.py\u001b[0m in \u001b[0;36mcalc_GD_generalzation\u001b[0;34m(x_train, y_train, x_test, y_test, lr, number_of_models_to_try, epochs, loss_max_thr, loss_min_thr, criterion)\u001b[0m\n\u001b[1;32m     66\u001b[0m         \u001b[0mmodel_gd\u001b[0m \u001b[0;34m=\u001b[0m \u001b[0mDiagonalNetworks\u001b[0m\u001b[0;34m(\u001b[0m\u001b[0md\u001b[0m\u001b[0;34m)\u001b[0m\u001b[0;34m\u001b[0m\u001b[0;34m\u001b[0m\u001b[0m\n\u001b[1;32m     67\u001b[0m         \u001b[0moptimizer\u001b[0m \u001b[0;34m=\u001b[0m \u001b[0mtorch\u001b[0m\u001b[0;34m.\u001b[0m\u001b[0moptim\u001b[0m\u001b[0;34m.\u001b[0m\u001b[0mSGD\u001b[0m\u001b[0;34m(\u001b[0m\u001b[0mmodel_gd\u001b[0m\u001b[0;34m.\u001b[0m\u001b[0mparameters\u001b[0m\u001b[0;34m(\u001b[0m\u001b[0;34m)\u001b[0m\u001b[0;34m,\u001b[0m \u001b[0mlr\u001b[0m\u001b[0;34m=\u001b[0m\u001b[0mlr\u001b[0m\u001b[0;34m)\u001b[0m\u001b[0;34m\u001b[0m\u001b[0;34m\u001b[0m\u001b[0m\n\u001b[0;32m---> 68\u001b[0;31m         \u001b[0miter\u001b[0m\u001b[0;34m,\u001b[0m \u001b[0mstatus\u001b[0m \u001b[0;34m=\u001b[0m \u001b[0mtrain_gd\u001b[0m\u001b[0;34m(\u001b[0m\u001b[0mmodel_gd\u001b[0m\u001b[0;34m,\u001b[0m \u001b[0moptimizer\u001b[0m\u001b[0;34m,\u001b[0m \u001b[0mcriterion\u001b[0m\u001b[0;34m,\u001b[0m \u001b[0mx_train\u001b[0m\u001b[0;34m,\u001b[0m \u001b[0my_train\u001b[0m\u001b[0;34m,\u001b[0m \u001b[0mepochs\u001b[0m\u001b[0;34m=\u001b[0m\u001b[0mepochs\u001b[0m\u001b[0;34m,\u001b[0m \u001b[0mloss_max_thr\u001b[0m\u001b[0;34m=\u001b[0m\u001b[0mloss_max_thr\u001b[0m\u001b[0;34m,\u001b[0m \u001b[0mloss_min_thr\u001b[0m\u001b[0;34m=\u001b[0m\u001b[0mloss_min_thr\u001b[0m\u001b[0;34m,\u001b[0m \u001b[0mprint_loss\u001b[0m\u001b[0;34m=\u001b[0m\u001b[0;32mFalse\u001b[0m\u001b[0;34m)\u001b[0m\u001b[0;34m\u001b[0m\u001b[0;34m\u001b[0m\u001b[0m\n\u001b[0m\u001b[1;32m     69\u001b[0m         \u001b[0;32mif\u001b[0m \u001b[0mstatus\u001b[0m\u001b[0;34m==\u001b[0m\u001b[0;34m\"Failed\"\u001b[0m\u001b[0;34m:\u001b[0m\u001b[0;34m\u001b[0m\u001b[0;34m\u001b[0m\u001b[0m\n\u001b[1;32m     70\u001b[0m             \u001b[0;32mcontinue\u001b[0m\u001b[0;34m\u001b[0m\u001b[0;34m\u001b[0m\u001b[0m\n",
      "\u001b[0;32m~/random_generalization/gd.py\u001b[0m in \u001b[0;36mtrain_gd\u001b[0;34m(model, optimizer, criterion, x_train, y_train, epochs, loss_max_thr, loss_min_thr, print_loss)\u001b[0m\n\u001b[1;32m     26\u001b[0m         \u001b[0mmodel\u001b[0m\u001b[0;34m.\u001b[0m\u001b[0mtrain\u001b[0m\u001b[0;34m(\u001b[0m\u001b[0;34m)\u001b[0m\u001b[0;34m\u001b[0m\u001b[0;34m\u001b[0m\u001b[0m\n\u001b[1;32m     27\u001b[0m         \u001b[0moptimizer\u001b[0m\u001b[0;34m.\u001b[0m\u001b[0mzero_grad\u001b[0m\u001b[0;34m(\u001b[0m\u001b[0;34m)\u001b[0m\u001b[0;34m\u001b[0m\u001b[0;34m\u001b[0m\u001b[0m\n\u001b[0;32m---> 28\u001b[0;31m         \u001b[0mtrain_acc\u001b[0m\u001b[0;34m,\u001b[0m \u001b[0my_hat\u001b[0m \u001b[0;34m=\u001b[0m \u001b[0mcalc_accuracy\u001b[0m\u001b[0;34m(\u001b[0m\u001b[0mmodel\u001b[0m\u001b[0;34m,\u001b[0m \u001b[0mx_train\u001b[0m\u001b[0;34m,\u001b[0m \u001b[0my_train\u001b[0m\u001b[0;34m)\u001b[0m\u001b[0;34m\u001b[0m\u001b[0;34m\u001b[0m\u001b[0m\n\u001b[0m\u001b[1;32m     29\u001b[0m         \u001b[0mloss_train\u001b[0m \u001b[0;34m=\u001b[0m \u001b[0mcriterion\u001b[0m\u001b[0;34m(\u001b[0m\u001b[0my_hat\u001b[0m\u001b[0;34m,\u001b[0m \u001b[0;34m(\u001b[0m\u001b[0my_train\u001b[0m\u001b[0;34m>\u001b[0m\u001b[0;36m0\u001b[0m\u001b[0;34m)\u001b[0m\u001b[0;34m.\u001b[0m\u001b[0mfloat\u001b[0m\u001b[0;34m(\u001b[0m\u001b[0;34m)\u001b[0m\u001b[0;34m)\u001b[0m\u001b[0;34m\u001b[0m\u001b[0;34m\u001b[0m\u001b[0m\n\u001b[1;32m     30\u001b[0m \u001b[0;34m\u001b[0m\u001b[0m\n",
      "\u001b[0;32m~/random_generalization/utilities.py\u001b[0m in \u001b[0;36mcalc_accuracy\u001b[0;34m(model, X, y)\u001b[0m\n\u001b[1;32m     16\u001b[0m     \u001b[0my_hat\u001b[0m \u001b[0;34m-\u001b[0m \u001b[0mpredicted\u001b[0m \u001b[0mlabels\u001b[0m\u001b[0;34m\u001b[0m\u001b[0;34m\u001b[0m\u001b[0m\n\u001b[1;32m     17\u001b[0m     \"\"\"\n\u001b[0;32m---> 18\u001b[0;31m     \u001b[0my_hat\u001b[0m \u001b[0;34m=\u001b[0m \u001b[0mmodel\u001b[0m\u001b[0;34m.\u001b[0m\u001b[0mforward\u001b[0m\u001b[0;34m(\u001b[0m\u001b[0mX\u001b[0m\u001b[0;34m)\u001b[0m\u001b[0;34m\u001b[0m\u001b[0;34m\u001b[0m\u001b[0m\n\u001b[0m\u001b[1;32m     19\u001b[0m     \u001b[0mpredicton\u001b[0m \u001b[0;34m=\u001b[0m \u001b[0;34m(\u001b[0m\u001b[0my_hat\u001b[0m\u001b[0;34m*\u001b[0m\u001b[0my\u001b[0m\u001b[0;34m>\u001b[0m\u001b[0;36m0\u001b[0m\u001b[0;34m)\u001b[0m\u001b[0;34m.\u001b[0m\u001b[0mfloat\u001b[0m\u001b[0;34m(\u001b[0m\u001b[0;34m)\u001b[0m\u001b[0;34m\u001b[0m\u001b[0;34m\u001b[0m\u001b[0m\n\u001b[1;32m     20\u001b[0m     \u001b[0macc\u001b[0m \u001b[0;34m=\u001b[0m \u001b[0mtorch\u001b[0m\u001b[0;34m.\u001b[0m\u001b[0msum\u001b[0m\u001b[0;34m(\u001b[0m\u001b[0mpredicton\u001b[0m\u001b[0;34m)\u001b[0m\u001b[0;34m/\u001b[0m\u001b[0mlen\u001b[0m\u001b[0;34m(\u001b[0m\u001b[0my\u001b[0m\u001b[0;34m)\u001b[0m\u001b[0;34m\u001b[0m\u001b[0;34m\u001b[0m\u001b[0m\n",
      "\u001b[0;32m~/random_generalization/models.py\u001b[0m in \u001b[0;36mforward\u001b[0;34m(self, input)\u001b[0m\n\u001b[1;32m     14\u001b[0m \u001b[0;34m\u001b[0m\u001b[0m\n\u001b[1;32m     15\u001b[0m     \u001b[0;32mdef\u001b[0m \u001b[0mforward\u001b[0m\u001b[0;34m(\u001b[0m\u001b[0mself\u001b[0m\u001b[0;34m,\u001b[0m \u001b[0minput\u001b[0m\u001b[0;34m)\u001b[0m\u001b[0;34m:\u001b[0m\u001b[0;34m\u001b[0m\u001b[0;34m\u001b[0m\u001b[0m\n\u001b[0;32m---> 16\u001b[0;31m         \u001b[0mw\u001b[0m \u001b[0;34m=\u001b[0m \u001b[0mtorch\u001b[0m\u001b[0;34m.\u001b[0m\u001b[0mprod\u001b[0m\u001b[0;34m(\u001b[0m\u001b[0mself\u001b[0m\u001b[0;34m.\u001b[0m\u001b[0mlayers\u001b[0m\u001b[0;34m,\u001b[0m \u001b[0maxis\u001b[0m\u001b[0;34m=\u001b[0m\u001b[0;36m1\u001b[0m\u001b[0;34m)\u001b[0m\u001b[0;34m\u001b[0m\u001b[0;34m\u001b[0m\u001b[0m\n\u001b[0m\u001b[1;32m     17\u001b[0m         \u001b[0moutput\u001b[0m \u001b[0;34m=\u001b[0m \u001b[0mtorch\u001b[0m\u001b[0;34m.\u001b[0m\u001b[0mmatmul\u001b[0m\u001b[0;34m(\u001b[0m\u001b[0minput\u001b[0m\u001b[0;34m.\u001b[0m\u001b[0mfloat\u001b[0m\u001b[0;34m(\u001b[0m\u001b[0;34m)\u001b[0m\u001b[0;34m,\u001b[0m\u001b[0mw\u001b[0m\u001b[0;34m)\u001b[0m\u001b[0;34m\u001b[0m\u001b[0;34m\u001b[0m\u001b[0m\n\u001b[1;32m     18\u001b[0m         \u001b[0;32mreturn\u001b[0m \u001b[0moutput\u001b[0m\u001b[0;34m\u001b[0m\u001b[0;34m\u001b[0m\u001b[0m\n",
      "\u001b[0;31mKeyboardInterrupt\u001b[0m: "
     ]
    }
   ],
   "source": [
    "test_acc_mean, test_acc_std, _ = calc_GD_generalzation(x_train, y_train, x_test, y_test, lr=100*gd_lr, number_of_models_to_try=10, epochs=10*gd_epochs, loss_max_thr=0.05, loss_min_thr=0)"
   ]
  },
  {
   "cell_type": "code",
   "execution_count": null,
   "metadata": {},
   "outputs": [
    {
     "data": {
      "text/plain": [
       "0.8166666"
      ]
     },
     "execution_count": 24,
     "metadata": {},
     "output_type": "execute_result"
    }
   ],
   "source": [
    "test_acc_mean"
   ]
  },
  {
   "cell_type": "code",
   "execution_count": 11,
   "metadata": {},
   "outputs": [
    {
     "data": {
      "text/plain": [
       "array([], dtype=int64)"
      ]
     },
     "execution_count": 11,
     "metadata": {},
     "output_type": "execute_result"
    }
   ],
   "source": []
  },
  {
   "cell_type": "code",
   "execution_count": 3,
   "metadata": {},
   "outputs": [
    {
     "data": {
      "text/plain": [
       "{(3, 'Normal'): 0.53031,\n",
       " (3, 'Normal_uv'): 0.53466,\n",
       " (3, 'Laplace'): 0.53108996,\n",
       " (3, 'GD'): 0.51123005}"
      ]
     },
     "execution_count": 3,
     "metadata": {},
     "output_type": "execute_result"
    }
   ],
   "source": [
    "mean_test_acc_dict"
   ]
  },
  {
   "cell_type": "code",
   "execution_count": 4,
   "metadata": {},
   "outputs": [
    {
     "data": {
      "text/plain": [
       "{(3, 'Normal'): 0.03092378,\n",
       " (3, 'Normal_uv'): 0.033332024,\n",
       " (3, 'Laplace'): 0.03337513,\n",
       " (3, 'GD'): 0.012701888}"
      ]
     },
     "execution_count": 4,
     "metadata": {},
     "output_type": "execute_result"
    }
   ],
   "source": [
    "std_test_acc_dict"
   ]
  },
  {
   "cell_type": "code",
   "execution_count": 5,
   "metadata": {},
   "outputs": [
    {
     "data": {
      "image/png": "[encoded data removed]",
      "text/plain": [
       "<Figure size 432x288 with 1 Axes>"
      ]
     },
     "metadata": {
      "needs_background": "light"
     },
     "output_type": "display_data"
    }
   ],
   "source": [
    "for dist in [\"Normal\", \"Normal_uv\", \"Laplace\", \"GD\"]:\n",
    "    mean_test_acc_vec = [mean_test_acc_dict[(r, dist)] for r in r_vec]\n",
    "    plt.plot(r_vec, mean_test_acc_vec, label=dist)\n",
    "\n",
    "plt.xlabel(\"Sparsity\")\n",
    "plt.ylabel(\"Mean Test Accuracy\")\n",
    "# plt.yscale(\"log\")\n",
    "plt.legend()\n",
    "# plt.show()\n",
    "if len(seed_vec)==1:\n",
    "    plt.savefig(f\"Figures/diagonal_networks_random_generalization_N_train={N_train}_N_test={N_test}_d={d}_mu={mu}_seed={seed_vec[0]}.png\")\n",
    "else:\n",
    "    plt.savefig(f\"Figures/diagonal_networks_random_generalization_N_train={N_train}_N_test={N_test}_d={d}_mu={mu}_seed_num={len(seed_vec)}.png\")\n",
    "\n",
    "# print(\"GD\", test_acc, test_acc_std)"
   ]
  },
  {
   "cell_type": "code",
   "execution_count": null,
   "metadata": {},
   "outputs": [],
   "source": []
  },
  {
   "cell_type": "markdown",
   "metadata": {},
   "source": [
    "# Plots"
   ]
  },
  {
   "cell_type": "code",
   "execution_count": 20,
   "metadata": {},
   "outputs": [],
   "source": [
    "import torch\n",
    "\n",
    "# load baselines\n",
    "def load_baseline(args, r):\n",
    "        mean_test_acc_baseline = {}\n",
    "        std_test_acc_baseline = {}\n",
    "        for reg in [\"L1\", \"L2\", \"null\"]:\n",
    "                file_name = f\"N_train={args.N_train}_N_test={args.N_test}_dataset={args.dataset}_d={args.d}_mu={args.mu}_seed_num={args.seed_num}_r={r}_reg={reg}\"\n",
    "                res = torch.load(f\"{args.results_folder}/{file_name}.pt\")\n",
    "                mean_test_acc_baseline[(r, reg)] = res[\"mean_test_acc\"]\n",
    "                std_test_acc_baseline[(r, reg)] = res[\"std_test_acc\"]\n",
    "        return mean_test_acc_baseline, std_test_acc_baseline"
   ]
  },
  {
   "cell_type": "code",
   "execution_count": 25,
   "metadata": {},
   "outputs": [
    {
     "name": "stdout",
     "output_type": "stream",
     "text": [
      "Results/mean_test_acc_dict_N_train=16_N_test=2000_dataset=random_d=30_mu=0_seed_num=10_T_find_interpolating_sol=100000_number_of_GNC_models_to_try=100_gd_epochs=10000_gd_lr=0.1_loss_max_thr=0.3_loss_min_thr=0.2_depth=30.pkl\n"
     ]
    },
    {
     "data": {
      "text/plain": [
       "<matplotlib.legend.Legend at 0x7fb86c903310>"
      ]
     },
     "execution_count": 25,
     "metadata": {},
     "output_type": "execute_result"
    },
    {
     "data": {
      "image/png": "[encoded data removed]",
      "text/plain": [
       "<Figure size 432x288 with 1 Axes>"
      ]
     },
     "metadata": {
      "needs_background": "light"
     },
     "output_type": "display_data"
    }
   ],
   "source": [
    "from utilities import get_file_name\n",
    "import pickle\n",
    "import argparse\n",
    "\n",
    "args = argparse.Namespace()\n",
    "args.N_train = 16\n",
    "args.N_test = 2000\n",
    "args.dataset = \"random\"\n",
    "args.d = 30\n",
    "args.mu = 0\n",
    "args.seed_num = 10\n",
    "args.T_find_interpolating_sol = 100000\n",
    "args.number_of_GNC_models_to_try = 100\n",
    "args.gd_epochs = 10000\n",
    "args.gd_lr = 0.1\n",
    "args.weight_decay = 0.0\n",
    "args.loss_max_thr = 0.3\n",
    "args.loss_min_thr = 0.2\n",
    "args.depth = 30\n",
    "args.results_folder = \"Results\"\n",
    "\n",
    "print(get_file_name(\"mean_test_acc_dict\", args))\n",
    "\n",
    "with open(get_file_name(\"mean_test_acc_dict\", args, checkpoint=True), 'rb') as f:\n",
    "        mean_test_acc = pickle.load(f)\n",
    "\n",
    "r_vec = [1, 3]\n",
    "mean_test_acc_baseline_dict = {}\n",
    "for r in r_vec:\n",
    "        mean_test_acc_baseline, std_test_acc_baseline = load_baseline(args, r)\n",
    "        mean_test_acc_baseline_dict.update(mean_test_acc_baseline)\n",
    "\n",
    "# plot results\n",
    "import matplotlib.pyplot as plt\n",
    "\n",
    "dist_vec = [\"Normal\", \"Normal_uv\", \"Laplace\"]\n",
    "for dist in dist_vec:\n",
    "        mean_test_acc_vec = [mean_test_acc[(r, dist)] for r in r_vec]\n",
    "        plt.plot(r_vec, mean_test_acc_vec, label=dist)\n",
    "\n",
    "for reg in [\"L1\", \"L2\", \"null\"]:\n",
    "        mean_test_acc_vec = [mean_test_acc_baseline_dict[(r, reg)] for r in r_vec]\n",
    "        plt.plot(r_vec, mean_test_acc_vec, \"--\", label=reg)\n",
    "\n",
    "plt.xlabel(\"Sparsity\")\n",
    "plt.ylabel(\"Mean Test Accuracy\")\n",
    "plt.legend()"
   ]
  },
  {
   "cell_type": "code",
   "execution_count": 22,
   "metadata": {},
   "outputs": [
    {
     "data": {
      "text/plain": [
       "{(1, 'L1'): 0.833, (1, 'L2'): 0.67419994, (1, 'null'): 0.34690002}"
      ]
     },
     "execution_count": 22,
     "metadata": {},
     "output_type": "execute_result"
    }
   ],
   "source": [
    "mean_test_acc_baseline"
   ]
  },
  {
   "cell_type": "code",
   "execution_count": null,
   "metadata": {},
   "outputs": [],
   "source": []
  }
 ],
 "metadata": {
  "kernelspec": {
   "display_name": "myenv",
   "language": "python",
   "name": "python3"
  },
  "language_info": {
   "codemirror_mode": {
    "name": "ipython",
    "version": 3
   },
   "file_extension": ".py",
   "mimetype": "text/x-python",
   "name": "python",
   "nbconvert_exporter": "python",
   "pygments_lexer": "ipython3",
   "version": "3.7.10"
  }
 },
 "nbformat": 4,
 "nbformat_minor": 2
}
